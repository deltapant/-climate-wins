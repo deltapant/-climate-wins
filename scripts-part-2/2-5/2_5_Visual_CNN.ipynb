{
 "cells": [
  {
   "cell_type": "code",
   "execution_count": 1,
   "id": "a11aa508",
   "metadata": {
    "id": "a11aa508"
   },
   "outputs": [],
   "source": [
    "import pandas as pd\n",
    "import numpy as np\n",
    "import os\n",
    "import matplotlib.pyplot as plt\n",
    "import tensorflow as tf\n",
    "from keras import Input\n",
    "from keras.models import Sequential\n",
    "from keras.models import Model\n",
    "from keras.layers import Conv1D, Conv2D, Dense, BatchNormalization, Flatten, MaxPooling2D, Activation, Dense, Dropout\n",
    "from keras.utils import to_categorical\n",
    "from keras.src.legacy.preprocessing.image import ImageDataGenerator\n",
    "from sklearn.metrics import confusion_matrix, accuracy_score, ConfusionMatrixDisplay"
   ]
  },
  {
   "cell_type": "code",
   "execution_count": 2,
   "id": "392dad74",
   "metadata": {
    "id": "392dad74",
    "outputId": "979bcb81-2920-4d63-9100-708bc3d15b6b"
   },
   "outputs": [
    {
     "name": "stdout",
     "output_type": "stream",
     "text": [
      "['Cloudy', 'Rain', 'Shine', 'Sunrise']\n"
     ]
    }
   ],
   "source": [
    "#download the weather images and put them in a directory\n",
    "path = r'C:\\Users\\suhas\\Documents\\careerfoundry\\ml\\datasets\\multiclass-weather'\n",
    "folders = os.listdir(path)\n",
    "print(folders)"
   ]
  },
  {
   "cell_type": "code",
   "execution_count": 3,
   "id": "2c41a09b",
   "metadata": {
    "id": "2c41a09b",
    "outputId": "d8881308-e6a2-46c2-9c68-c59e0adb785b"
   },
   "outputs": [
    {
     "name": "stdout",
     "output_type": "stream",
     "text": [
      "Found 901 images belonging to 4 classes.\n",
      "Found 224 images belonging to 4 classes.\n"
     ]
    }
   ],
   "source": [
    "# rescale the pictures to 250x250\n",
    "\n",
    "datagenerator = ImageDataGenerator(rescale=1/255, validation_split=0.2)\n",
    "train_generator = datagenerator.flow_from_directory(\n",
    "    path,\n",
    "    target_size=(250 , 250),\n",
    "    batch_size=32,\n",
    "    subset='training',\n",
    ")\n",
    "\n",
    "test_generator = datagenerator.flow_from_directory(\n",
    "    path,\n",
    "    target_size=(250 , 250),\n",
    "    batch_size=32,\n",
    "    subset='validation',\n",
    ")"
   ]
  },
  {
   "cell_type": "code",
   "execution_count": 4,
   "id": "0030e46f",
   "metadata": {
    "id": "0030e46f"
   },
   "outputs": [],
   "source": [
    "#this is a CNN to categorize the weather images\n",
    "\n",
    "inputs = Input(shape=(250, 250, 3))\n",
    "x = Conv2D(32, (5,5), activation = 'relu')(inputs)\n",
    "x = MaxPooling2D(3,3)(x)\n",
    "x = Conv2D(64, (5,5) , activation = 'relu')(x)\n",
    "x = MaxPooling2D((3,3))(x)\n",
    "x = Conv2D(128 , (5,5) , activation = 'relu')(x)\n",
    "x = MaxPooling2D(3,3)(x)\n",
    "x = Flatten()(x)\n",
    "x = Dropout(0.5, seed = 5)(x)\n",
    "x = Dense(128 , activation = 'relu')(x)\n",
    "\n",
    "outputs = Dense(4, activation = 'softmax')(x)\n",
    "\n",
    "model:Model = Model(inputs=inputs, outputs=outputs)"
   ]
  },
  {
   "cell_type": "code",
   "execution_count": 7,
   "id": "c6b8e555",
   "metadata": {
    "id": "c6b8e555",
    "outputId": "43b90b9a-ce21-4322-a5c3-7bb77e32369c"
   },
   "outputs": [
    {
     "name": "stdout",
     "output_type": "stream",
     "text": [
      "Epoch 1/5\n",
      "\u001b[1m28/28\u001b[0m \u001b[32m━━━━━━━━━━━━━━━━━━━━\u001b[0m\u001b[37m\u001b[0m \u001b[1m18s\u001b[0m 582ms/step - accuracy: 0.7327 - loss: 0.0844 - val_accuracy: 0.8438 - val_loss: 0.0574\n",
      "Epoch 2/5\n",
      "\u001b[1m28/28\u001b[0m \u001b[32m━━━━━━━━━━━━━━━━━━━━\u001b[0m\u001b[37m\u001b[0m \u001b[1m0s\u001b[0m 747us/step - accuracy: 0.8750 - loss: 0.0354 \n",
      "Epoch 3/5\n",
      "\u001b[1m28/28\u001b[0m \u001b[32m━━━━━━━━━━━━━━━━━━━━\u001b[0m\u001b[37m\u001b[0m \u001b[1m16s\u001b[0m 585ms/step - accuracy: 0.7893 - loss: 0.0701 - val_accuracy: 0.7634 - val_loss: 0.0833\n",
      "Epoch 4/5\n",
      "\u001b[1m28/28\u001b[0m \u001b[32m━━━━━━━━━━━━━━━━━━━━\u001b[0m\u001b[37m\u001b[0m \u001b[1m1s\u001b[0m 610us/step - accuracy: 0.7812 - loss: 0.0756 \n",
      "Epoch 5/5\n",
      "\u001b[1m28/28\u001b[0m \u001b[32m━━━━━━━━━━━━━━━━━━━━\u001b[0m\u001b[37m\u001b[0m \u001b[1m17s\u001b[0m 612ms/step - accuracy: 0.8240 - loss: 0.0675 - val_accuracy: 0.7500 - val_loss: 0.1006\n"
     ]
    },
    {
     "data": {
      "text/plain": [
       "<keras.src.callbacks.history.History at 0x26410b70230>"
      ]
     },
     "execution_count": 7,
     "metadata": {},
     "output_type": "execute_result"
    }
   ],
   "source": [
    "#compile and run the model\n",
    "#how many epochs are required to generate an accurate model?\n",
    "\n",
    "model.compile(optimizer=\"Adam\", loss=\"mean_squared_error\", metrics=[\"accuracy\"])\n",
    "model.fit(\n",
    "    train_generator,\n",
    "    epochs = 5,\n",
    "    steps_per_epoch = train_generator.n // train_generator.batch_size,\n",
    "    validation_data = test_generator,\n",
    "    validation_steps = test_generator.n // test_generator.batch_size,\n",
    ")"
   ]
  },
  {
   "cell_type": "code",
   "execution_count": 9,
   "id": "69b14be9",
   "metadata": {
    "id": "69b14be9"
   },
   "outputs": [
    {
     "ename": "ValueError",
     "evalue": "All arrays must be of the same length",
     "output_type": "error",
     "traceback": [
      "\u001b[1;31m---------------------------------------------------------------------------\u001b[0m",
      "\u001b[1;31mValueError\u001b[0m                                Traceback (most recent call last)",
      "Cell \u001b[1;32mIn[9], line 1\u001b[0m\n\u001b[1;32m----> 1\u001b[0m results \u001b[38;5;241m=\u001b[39m pd\u001b[38;5;241m.\u001b[39mDataFrame(model\u001b[38;5;241m.\u001b[39mhistory\u001b[38;5;241m.\u001b[39mhistory)\n",
      "File \u001b[1;32m~\\anaconda3\\Lib\\site-packages\\pandas\\core\\frame.py:778\u001b[0m, in \u001b[0;36mDataFrame.__init__\u001b[1;34m(self, data, index, columns, dtype, copy)\u001b[0m\n\u001b[0;32m    772\u001b[0m     mgr \u001b[38;5;241m=\u001b[39m \u001b[38;5;28mself\u001b[39m\u001b[38;5;241m.\u001b[39m_init_mgr(\n\u001b[0;32m    773\u001b[0m         data, axes\u001b[38;5;241m=\u001b[39m{\u001b[38;5;124m\"\u001b[39m\u001b[38;5;124mindex\u001b[39m\u001b[38;5;124m\"\u001b[39m: index, \u001b[38;5;124m\"\u001b[39m\u001b[38;5;124mcolumns\u001b[39m\u001b[38;5;124m\"\u001b[39m: columns}, dtype\u001b[38;5;241m=\u001b[39mdtype, copy\u001b[38;5;241m=\u001b[39mcopy\n\u001b[0;32m    774\u001b[0m     )\n\u001b[0;32m    776\u001b[0m \u001b[38;5;28;01melif\u001b[39;00m \u001b[38;5;28misinstance\u001b[39m(data, \u001b[38;5;28mdict\u001b[39m):\n\u001b[0;32m    777\u001b[0m     \u001b[38;5;66;03m# GH#38939 de facto copy defaults to False only in non-dict cases\u001b[39;00m\n\u001b[1;32m--> 778\u001b[0m     mgr \u001b[38;5;241m=\u001b[39m dict_to_mgr(data, index, columns, dtype\u001b[38;5;241m=\u001b[39mdtype, copy\u001b[38;5;241m=\u001b[39mcopy, typ\u001b[38;5;241m=\u001b[39mmanager)\n\u001b[0;32m    779\u001b[0m \u001b[38;5;28;01melif\u001b[39;00m \u001b[38;5;28misinstance\u001b[39m(data, ma\u001b[38;5;241m.\u001b[39mMaskedArray):\n\u001b[0;32m    780\u001b[0m     \u001b[38;5;28;01mfrom\u001b[39;00m\u001b[38;5;250m \u001b[39m\u001b[38;5;21;01mnumpy\u001b[39;00m\u001b[38;5;21;01m.\u001b[39;00m\u001b[38;5;21;01mma\u001b[39;00m\u001b[38;5;250m \u001b[39m\u001b[38;5;28;01mimport\u001b[39;00m mrecords\n",
      "File \u001b[1;32m~\\anaconda3\\Lib\\site-packages\\pandas\\core\\internals\\construction.py:503\u001b[0m, in \u001b[0;36mdict_to_mgr\u001b[1;34m(data, index, columns, dtype, typ, copy)\u001b[0m\n\u001b[0;32m    499\u001b[0m     \u001b[38;5;28;01melse\u001b[39;00m:\n\u001b[0;32m    500\u001b[0m         \u001b[38;5;66;03m# dtype check to exclude e.g. range objects, scalars\u001b[39;00m\n\u001b[0;32m    501\u001b[0m         arrays \u001b[38;5;241m=\u001b[39m [x\u001b[38;5;241m.\u001b[39mcopy() \u001b[38;5;28;01mif\u001b[39;00m \u001b[38;5;28mhasattr\u001b[39m(x, \u001b[38;5;124m\"\u001b[39m\u001b[38;5;124mdtype\u001b[39m\u001b[38;5;124m\"\u001b[39m) \u001b[38;5;28;01melse\u001b[39;00m x \u001b[38;5;28;01mfor\u001b[39;00m x \u001b[38;5;129;01min\u001b[39;00m arrays]\n\u001b[1;32m--> 503\u001b[0m \u001b[38;5;28;01mreturn\u001b[39;00m arrays_to_mgr(arrays, columns, index, dtype\u001b[38;5;241m=\u001b[39mdtype, typ\u001b[38;5;241m=\u001b[39mtyp, consolidate\u001b[38;5;241m=\u001b[39mcopy)\n",
      "File \u001b[1;32m~\\anaconda3\\Lib\\site-packages\\pandas\\core\\internals\\construction.py:114\u001b[0m, in \u001b[0;36marrays_to_mgr\u001b[1;34m(arrays, columns, index, dtype, verify_integrity, typ, consolidate)\u001b[0m\n\u001b[0;32m    111\u001b[0m \u001b[38;5;28;01mif\u001b[39;00m verify_integrity:\n\u001b[0;32m    112\u001b[0m     \u001b[38;5;66;03m# figure out the index, if necessary\u001b[39;00m\n\u001b[0;32m    113\u001b[0m     \u001b[38;5;28;01mif\u001b[39;00m index \u001b[38;5;129;01mis\u001b[39;00m \u001b[38;5;28;01mNone\u001b[39;00m:\n\u001b[1;32m--> 114\u001b[0m         index \u001b[38;5;241m=\u001b[39m _extract_index(arrays)\n\u001b[0;32m    115\u001b[0m     \u001b[38;5;28;01melse\u001b[39;00m:\n\u001b[0;32m    116\u001b[0m         index \u001b[38;5;241m=\u001b[39m ensure_index(index)\n",
      "File \u001b[1;32m~\\anaconda3\\Lib\\site-packages\\pandas\\core\\internals\\construction.py:677\u001b[0m, in \u001b[0;36m_extract_index\u001b[1;34m(data)\u001b[0m\n\u001b[0;32m    675\u001b[0m lengths \u001b[38;5;241m=\u001b[39m \u001b[38;5;28mlist\u001b[39m(\u001b[38;5;28mset\u001b[39m(raw_lengths))\n\u001b[0;32m    676\u001b[0m \u001b[38;5;28;01mif\u001b[39;00m \u001b[38;5;28mlen\u001b[39m(lengths) \u001b[38;5;241m>\u001b[39m \u001b[38;5;241m1\u001b[39m:\n\u001b[1;32m--> 677\u001b[0m     \u001b[38;5;28;01mraise\u001b[39;00m \u001b[38;5;167;01mValueError\u001b[39;00m(\u001b[38;5;124m\"\u001b[39m\u001b[38;5;124mAll arrays must be of the same length\u001b[39m\u001b[38;5;124m\"\u001b[39m)\n\u001b[0;32m    679\u001b[0m \u001b[38;5;28;01mif\u001b[39;00m have_dicts:\n\u001b[0;32m    680\u001b[0m     \u001b[38;5;28;01mraise\u001b[39;00m \u001b[38;5;167;01mValueError\u001b[39;00m(\n\u001b[0;32m    681\u001b[0m         \u001b[38;5;124m\"\u001b[39m\u001b[38;5;124mMixing dicts with non-Series may lead to ambiguous ordering.\u001b[39m\u001b[38;5;124m\"\u001b[39m\n\u001b[0;32m    682\u001b[0m     )\n",
      "\u001b[1;31mValueError\u001b[0m: All arrays must be of the same length"
     ]
    }
   ],
   "source": [
    "results = pd.DataFrame(model.history.history)"
   ]
  },
  {
   "cell_type": "code",
   "execution_count": null,
   "id": "72f7af2a",
   "metadata": {
    "id": "72f7af2a",
    "outputId": "d9a6104b-4bec-4f4d-8e0b-269a8912c816"
   },
   "outputs": [],
   "source": [
    "results[['loss','val_loss']].plot(title='Model Loss')"
   ]
  },
  {
   "cell_type": "code",
   "execution_count": null,
   "id": "079e47c6",
   "metadata": {
    "id": "079e47c6",
    "outputId": "30fc5b63-87f9-4788-e156-43d0178fd2da"
   },
   "outputs": [],
   "source": [
    "results[['accuracy','val_accuracy']].plot(title='Model Accuracy')"
   ]
  },
  {
   "cell_type": "code",
   "execution_count": null,
   "id": "a824ae0c",
   "metadata": {
    "id": "a824ae0c",
    "outputId": "516820d7-3c45-4021-e233-cd4a7cec0353"
   },
   "outputs": [],
   "source": [
    "# Print the accuracy and loss\n",
    "print(\"Accuracy: {}, Val_Accuracy: {}\".format(results['accuracy'].iloc[-1], results['val_accuracy'].iloc[-1]))\n",
    "print(\"Loss: {}, Val_Loss: {}\".format(results['loss'].iloc[-1], results['val_loss'].iloc[-1]))"
   ]
  },
  {
   "cell_type": "code",
   "execution_count": null,
   "id": "fdee0eee",
   "metadata": {
    "id": "fdee0eee",
    "outputId": "dceee4b6-29b1-451d-e58a-8bd571034168"
   },
   "outputs": [],
   "source": [
    "# collect n batches of images and display the confusion matrix for them.\n",
    "\n",
    "class_names = ['Cloudy', 'Rain', 'Shine', 'Sunrise']\n",
    "n = 10 #<--you can change the number of batches selected.\n",
    "\n",
    "image_batch, classes_batch = next(test_generator)\n",
    "\n",
    "for batch in range(n):\n",
    "    temp = next(test_generator)\n",
    "    image_batch = np.concatenate((image_batch, temp[0]))\n",
    "    classes_batch = np.concatenate((classes_batch, temp[1]))\n",
    "\n",
    "classes_batch = classes_batch\n",
    "y_predict = model.predict(image_batch)\n",
    "\n",
    "#Confusion matrix for training data\n",
    "cm = confusion_matrix(y_pred = [np.argmax(x) for x in y_predict], y_true = [np.argmax(x) for x in classes_batch])\n",
    "disp = ConfusionMatrixDisplay(confusion_matrix=cm)\n",
    "disp.plot()\n",
    "plt.show()"
   ]
  },
  {
   "cell_type": "code",
   "execution_count": null,
   "id": "313732b0",
   "metadata": {
    "id": "313732b0"
   },
   "outputs": [],
   "source": [
    "#This function will display a number of random images as well as the predictions for the type of weather.\n",
    "\n",
    "def predict_one(model, num_images = None):\n",
    "    image_batch, classes_batch = next(test_generator)\n",
    "    predicted_batch = model.predict(image_batch)\n",
    "    for k in range(0,image_batch.shape[0] if num_images is None else num_images):\n",
    "        image = image_batch[k]\n",
    "        real_class = class_names[np.argmax(classes_batch[k])]\n",
    "        predicted_class = class_names[np.argmax(predicted_batch[k])]\n",
    "        value_predicted = predicted_batch[k]\n",
    "        isTrue = (real_class == predicted_class)\n",
    "        plt.figure(k)\n",
    "        plt.title(str(\"Correct Prediction\" if isTrue else \"Incorrect Prediction\") + ' - class: ' + real_class + ' - ' + 'predicted: ' + predicted_class + str(value_predicted))\n",
    "        plt.axis('off')\n",
    "        plt.imshow(image)"
   ]
  },
  {
   "cell_type": "code",
   "execution_count": null,
   "id": "8857612d",
   "metadata": {
    "id": "8857612d",
    "outputId": "dcc625cc-355f-4752-af8c-69ec76cbe4ca"
   },
   "outputs": [],
   "source": [
    "predict_one(model, 1) #<--you can show multiple pictures with this command. Just fill in the number you want to see."
   ]
  }
 ],
 "metadata": {
  "colab": {
   "provenance": []
  },
  "kernelspec": {
   "display_name": "Python 3 (ipykernel)",
   "language": "python",
   "name": "python3"
  },
  "language_info": {
   "codemirror_mode": {
    "name": "ipython",
    "version": 3
   },
   "file_extension": ".py",
   "mimetype": "text/x-python",
   "name": "python",
   "nbconvert_exporter": "python",
   "pygments_lexer": "ipython3",
   "version": "3.12.11"
  }
 },
 "nbformat": 4,
 "nbformat_minor": 5
}
